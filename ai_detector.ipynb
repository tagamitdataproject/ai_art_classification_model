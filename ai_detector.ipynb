{
  "nbformat": 4,
  "nbformat_minor": 0,
  "metadata": {
    "colab": {
      "provenance": [],
      "mount_file_id": "12T55MTlRKCs6weEIVCKdDHbTG7a7XT4u",
      "authorship_tag": "ABX9TyOzkrRDU1r+VQ6u4EkB2zRq",
      "include_colab_link": true
    },
    "kernelspec": {
      "name": "python3",
      "display_name": "Python 3"
    },
    "language_info": {
      "name": "python"
    }
  },
  "cells": [
    {
      "cell_type": "markdown",
      "metadata": {
        "id": "view-in-github",
        "colab_type": "text"
      },
      "source": [
        "<a href=\"https://colab.research.google.com/github/tagamitdataproject/ai_art_classification_model/blob/main/ai_detector.ipynb\" target=\"_parent\"><img src=\"https://colab.research.google.com/assets/colab-badge.svg\" alt=\"Open In Colab\"/></a>"
      ]
    },
    {
      "cell_type": "markdown",
      "source": [
        "!pip install datasets"
      ],
      "metadata": {
        "id": "ivMoGZjNjeSB"
      }
    }
  ]
}